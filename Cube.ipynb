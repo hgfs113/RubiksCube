{
  "nbformat": 4,
  "nbformat_minor": 0,
  "metadata": {
    "colab": {
      "provenance": []
    },
    "kernelspec": {
      "name": "python3",
      "display_name": "Python 3"
    },
    "language_info": {
      "name": "python"
    }
  },
  "cells": [
    {
      "cell_type": "code",
      "execution_count": 1,
      "metadata": {
        "id": "Vv2KnvOxckgv"
      },
      "outputs": [],
      "source": [
        "import numpy as np\n",
        "import matplotlib.pyplot as plt"
      ]
    },
    {
      "cell_type": "code",
      "source": [
        "class CubikRubic3x3Engine:\n",
        "    front = np.zeros((3, 3), dtype=int)\n",
        "    back = np.zeros((3, 3), dtype=int)\n",
        "    right = np.zeros((3, 3), dtype=int)\n",
        "    left = np.zeros((3, 3), dtype=int)\n",
        "    top = np.zeros((3, 3), dtype=int)\n",
        "    down = np.zeros((3, 3), dtype=int)\n",
        "\n",
        "    edges = ['left', 'front', 'right', 'back', 'top', 'down']\n",
        "\n",
        "    color_mapping = {\n",
        "        0 : (250, 250, 250), # white\n",
        "        1 : (0, 200, 0),     # green\n",
        "        2 : (200, 0, 0),     # red\n",
        "        3 : (240, 120, 0),   # orange\n",
        "        4 : (0, 0, 200),     # blue\n",
        "        5 : (240, 220, 0),   # yellow\n",
        "    }\n",
        "\n",
        "    char2idx = {\n",
        "        \"w\" : 0,\n",
        "        \"g\" : 1,\n",
        "        \"r\" : 2,\n",
        "        \"o\" : 3,\n",
        "        \"b\" : 4,\n",
        "        \"y\" : 5,\n",
        "    }\n",
        "\n",
        "    def _fill_edge(self, edge, iterable):\n",
        "        for i in range(3):\n",
        "            for j in range(3):\n",
        "                edge[i, j] = next(iterable)\n",
        "\n",
        "    def __init__(self, state=None):\n",
        "        if state is None:\n",
        "            raw_state = iter(np.random.permutation([i for i in range(6) for j in range(9)]))\n",
        "            for edge in self.edges:\n",
        "                self._fill_edge(self.__getattribute__(edge), raw_state)\n",
        "        else:\n",
        "            for edge, value in state.items():\n",
        "                raw_state = iter([self.char2idx[c] for c in value])\n",
        "                self._fill_edge(self.__getattribute__(edge), raw_state)\n",
        "\n",
        "    def _rotare_edge_full(self, edge='top', r=False):\n",
        "        c_edge = self.__getattribute__(edge)\n",
        "        cycle = [(0, 0), (0, 1), (0, 2), (1, 2), (2, 2), (2, 1), (2, 0), (1, 0)]\n",
        "        if r:\n",
        "            cycle = list(reversed(cycle))\n",
        "        cycle *= 2\n",
        "        tmp1 = c_edge[cycle[0]]\n",
        "        tmp2 = c_edge[cycle[1]]\n",
        "        for i in range(8):\n",
        "            c_edge[cycle[i]] = c_edge[cycle[i+2]]\n",
        "        c_edge[cycle[-2]] = tmp1\n",
        "        c_edge[cycle[-1]] = tmp2\n",
        "\n",
        "    def _rotare_left(self):\n",
        "        self._rotare_edge_full(edge='top', r=True)\n",
        "        self._rotare_edge_full(edge='down', r=False)\n",
        "\n",
        "        tmp = np.copy(self.front)\n",
        "        self.front = np.copy(self.right)\n",
        "        self.right = np.copy(self.back)\n",
        "        self.back = np.copy(self.left)\n",
        "        self.left = tmp\n",
        "\n",
        "    def _rotare_right(self):\n",
        "        self._rotare_edge_full(edge='top', r=False)\n",
        "        self._rotare_edge_full(edge='down', r=True)\n",
        "\n",
        "        tmp = np.copy(self.front)\n",
        "        self.front = np.copy(self.left)\n",
        "        self.left = np.copy(self.back)\n",
        "        self.back = np.copy(self.right)\n",
        "        self.right = tmp\n",
        "\n",
        "    def _rotare_up(self):\n",
        "        self._rotare_edge_full(edge='right', r=True)\n",
        "        self._rotare_edge_full(edge='left', r=False)\n",
        "\n",
        "        tmp = np.copy(self.front)\n",
        "        self.front = np.copy(self.down)\n",
        "        self.down = np.copy(self.back)\n",
        "        self.back = np.copy(self.top[::-1])\n",
        "        self.top = tmp\n",
        "\n",
        "    def _rotare_down(self):\n",
        "        self._rotare_edge_full(edge='right', r=False)\n",
        "        self._rotare_edge_full(edge='left', r=True)\n",
        "\n",
        "        tmp = np.copy(self.front)\n",
        "        self.front = np.copy(self.top)\n",
        "        self.top = np.copy(self.back[::-1, ::-1])\n",
        "        self.back = np.copy(self.down[::-1, ::-1])\n",
        "        self.down = tmp\n",
        "\n",
        "    def _up(self, r=False):\n",
        "        if r:\n",
        "            self._rotare_edge_full(edge='top', r=False)\n",
        "            tmp = np.copy(self.front[0])\n",
        "            self.front[0] = np.copy(self.left[0])\n",
        "            self.left[0] = np.copy(self.back[0])\n",
        "            self.back[0] = np.copy(self.right[0])\n",
        "            self.right[0] = tmp\n",
        "        else:\n",
        "            self._rotare_edge_full(edge='top', r=True)\n",
        "            tmp = np.copy(self.front[0])\n",
        "            self.front[0] = np.copy(self.right[0])\n",
        "            self.right[0] = np.copy(self.back[0])\n",
        "            self.back[0] = np.copy(self.left[0])\n",
        "            self.left[0] = tmp\n",
        "        return self\n",
        "\n",
        "    def _down(self, r=False):\n",
        "        if r:\n",
        "            self._rotare_edge_full(edge='down', r=False)\n",
        "            tmp = np.copy(self.front[2])\n",
        "            self.front[2] = np.copy(self.right[2])\n",
        "            self.right[2] = np.copy(self.back[2])\n",
        "            self.back[2] = np.copy(self.left[2])\n",
        "            self.left[2] = tmp\n",
        "        else:\n",
        "            self._rotare_edge_full(edge='down', r=True)\n",
        "            tmp = np.copy(self.front[2])\n",
        "            self.front[2] = np.copy(self.left[2])\n",
        "            self.left[2] = np.copy(self.back[2])\n",
        "            self.back[2] = np.copy(self.right[2])\n",
        "            self.right[2] = tmp\n",
        "        return self\n",
        "\n",
        "    def _front(self, r=False):\n",
        "        if r:\n",
        "            self._rotare_edge_full(edge='front', r=False)\n",
        "            tmp = np.copy(self.top[2])\n",
        "            self.top[2] = np.copy(self.right[:, 0])\n",
        "            self.right[:, 0] = np.copy(self.down[0][::-1])\n",
        "            self.down[0] = np.copy(self.left[:, 2])\n",
        "            self.left[:, 2] = tmp[::-1]\n",
        "        else:\n",
        "            self._rotare_edge_full(edge='front', r=True)\n",
        "            tmp = np.copy(self.top[2])\n",
        "            self.top[2] = np.copy(self.left[:, 2][::-1])\n",
        "            self.left[:, 2] = np.copy(self.down[0])\n",
        "            self.down[0] = np.copy(self.right[:, 0][::-1])\n",
        "            self.right[:, 0] = tmp\n",
        "        return self\n",
        "\n",
        "    def _left(self, r=False):\n",
        "        if r:\n",
        "            self._rotare_edge_full(edge='left', r=False)\n",
        "            tmp = np.copy(self.front[:, 0])\n",
        "            self.front[:, 0] = np.copy(self.down[:, 0])\n",
        "            self.down[:, 0] = np.copy(self.back[:, 2][::-1])\n",
        "            self.back[:, 2] = np.copy(self.top[:, 0][::-1])\n",
        "            self.top[:, 0] = tmp\n",
        "        else:\n",
        "            self._rotare_edge_full(edge='left', r=True)\n",
        "\n",
        "            tmp = np.copy(self.front[:, 0])\n",
        "            self.front[:, 0] = np.copy(self.top[:, 0])\n",
        "            self.top[:, 0] = np.copy(self.back[:, 2][::-1])\n",
        "            self.back[:, 2] = np.copy(self.down[:, 0][::-1])\n",
        "            self.down[:, 0] = tmp\n",
        "        return self\n",
        "\n",
        "    def _right(self, r=False):\n",
        "        if r:\n",
        "            self._rotare_edge_full(edge='right', r=False)\n",
        "\n",
        "            tmp = np.copy(self.front[:, 2])\n",
        "            self.front[:, 2] = np.copy(self.top[:, 2])\n",
        "            self.top[:, 2] = np.copy(self.back[:, 0][::-1])\n",
        "            self.back[:, 0] = np.copy(self.down[:, 2])\n",
        "            self.down[:, 2] = tmp\n",
        "        else:\n",
        "            self._rotare_edge_full(edge='right', r=True)\n",
        "\n",
        "            tmp = np.copy(self.front[:, 2])\n",
        "            self.front[:, 2] = np.copy(self.down[:, 2])\n",
        "            self.down[:, 2] = np.copy(self.back[:, 0][::-1])\n",
        "            self.back[:, 0] = np.copy(self.top[:, 2][::-1])\n",
        "            self.top[:, 2] = tmp\n",
        "        return self\n",
        "\n",
        "    def visualise_edge(self, edge='front'):\n",
        "        c_edge = self.__getattribute__(edge)\n",
        "        img = []\n",
        "        for i in range(3):\n",
        "            row = []\n",
        "            for j in range(3):\n",
        "                row.append(self.color_mapping[c_edge[i, j]])\n",
        "            img.append(row)\n",
        "        plt.title(edge)\n",
        "        plt.imshow(img)\n",
        "        plt.show()\n",
        "\n",
        "    def visualise(self):\n",
        "        fig, axs = plt.subplots(1, 6, figsize=(14, 4))\n",
        "        for edge, ax in zip(self.edges, axs):\n",
        "            c_edge = self.__getattribute__(edge)\n",
        "            img = []\n",
        "            for i in range(3):\n",
        "                row = []\n",
        "                for j in range(3):\n",
        "                    row.append(self.color_mapping[c_edge[i, j]])\n",
        "                img.append(row)\n",
        "            ax.set_title(edge)\n",
        "            ax.imshow(img)\n",
        "        plt.show()"
      ],
      "metadata": {
        "id": "FarhAmCnc0Sw"
      },
      "execution_count": 42,
      "outputs": []
    },
    {
      "cell_type": "code",
      "source": [
        "d = {\n",
        "    \"top\"    : \"wywrbbgbb\",\n",
        "     \"front\" : \"owrorogor\",\n",
        "     \"left\"  : \"rgwgwywro\",\n",
        "     \"right\" : \"yyrwywygo\",\n",
        "     \"down\"  : \"ybgbgoorb\",\n",
        "     \"back\"  : \"bggrowyyb\",\n",
        "}"
      ],
      "metadata": {
        "id": "tGMMJl8xsTpm"
      },
      "execution_count": 43,
      "outputs": []
    },
    {
      "cell_type": "code",
      "source": [
        "cube = CubikRubic3x3Engine(state=d)\n",
        "cube.visualise()\n",
        "cube._rotare_down()\n",
        "cube.visualise()"
      ],
      "metadata": {
        "colab": {
          "base_uri": "https://localhost:8080/",
          "height": 335
        },
        "id": "oFW613sqgw7m",
        "outputId": "912327c7-f052-49ab-8590-dd8170250e8f"
      },
      "execution_count": 44,
      "outputs": [
        {
          "output_type": "display_data",
          "data": {
            "text/plain": [
              "<Figure size 1008x288 with 6 Axes>"
            ],
            "image/png": "[encoded data removed]"
          },
          "metadata": {
            "needs_background": "light"
          }
        },
        {
          "output_type": "display_data",
          "data": {
            "text/plain": [
              "<Figure size 1008x288 with 6 Axes>"
            ],
            "image/png": "[encoded data removed]"
          },
          "metadata": {
            "needs_background": "light"
          }
        }
      ]
    },
    {
      "cell_type": "code",
      "source": [
        "cube._right(True)._down(True)._right()._down()\n",
        "cube.visualise()"
      ],
      "metadata": {
        "colab": {
          "base_uri": "https://localhost:8080/",
          "height": 176
        },
        "id": "uTqndTXty2bO",
        "outputId": "5e83f334-84eb-4c7f-9bb2-8ec3a70ff156"
      },
      "execution_count": 19,
      "outputs": [
        {
          "output_type": "display_data",
          "data": {
            "text/plain": [
              "<Figure size 1008x288 with 6 Axes>"
            ],
            "image/png": "[encoded data removed]"
          },
          "metadata": {
            "needs_background": "light"
          }
        }
      ]
    },
    {
      "cell_type": "code",
      "source": [],
      "metadata": {
        "id": "yzQIVxHjy3Rp"
      },
      "execution_count": null,
      "outputs": []
    }
  ]
}